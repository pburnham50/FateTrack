{
 "cells": [
  {
   "cell_type": "code",
   "execution_count": 4,
   "metadata": {},
   "outputs": [
    {
     "name": "stdout",
     "output_type": "stream",
     "text": [
      "{'svc__C': 1}\n"
     ]
    }
   ],
   "source": [
    "# import various libraries\n",
    "import numpy as np\n",
    "import csv\n",
    "import pandas as pd\n",
    "import sklearn\n",
    "from sklearn import svm\n",
    "from sklearn.datasets import make_classification\n",
    "from sklearn.linear_model import LogisticRegression\n",
    "from sklearn.model_selection import train_test_split\n",
    "from sklearn.pipeline import make_pipeline\n",
    "from sklearn.preprocessing import StandardScaler\n",
    "from sklearn.model_selection import GridSearchCV\n",
    "\n",
    "# import data\n",
    "X_train = pd.read_csv(\"~/Desktop/ml_data/improps_0315/train_0324.csv\", sep = ',', header = None)\n",
    "y_train = pd.read_csv(\"~/Desktop/ml_data/improps_0315/train_id_0324.csv\", sep = ',', header = None)\n",
    "X_test = pd.read_csv(\"~/Desktop/ml_data/improps_0315/test_0324.csv\", sep = ',', header = None)\n",
    "y_test = pd.read_csv(\"~/Desktop/ml_data/improps_0315/test_id_0324.csv\", sep = ',', header = None)\n",
    "\n",
    "y_train = np.ravel(y_train, order = \"C\") # have to do this to make data the right shape\n",
    "\n",
    "# scaling pipeline\n",
    "pipe = make_pipeline(StandardScaler(), svm.SVC())\n",
    "pipe.fit(X_train, y_train)  # apply scaling on training data\n",
    "#pipe.score(X_test, y_test)  # apply scaling on testing data, without leaking training data.\n",
    "test_results = pipe.predict(X_test)\n",
    "# create and train SVM\n",
    "#classifier = svm.SVC()\n",
    "#classifier.fit(X_train, y_train)\n",
    "\n",
    "param_grid = {'svc__C': [1, 2, 3, 4, 5, 10, 50]}#, 'svc__gamma': [0.0001, 0.0005, 0.001, 0.005]}\n",
    "grid = GridSearchCV(pipe, param_grid)\n",
    "grid.fit(X_train, y_train)\n",
    "print(grid.best_params_)"
   ]
  },
  {
   "cell_type": "code",
   "execution_count": 1,
   "metadata": {},
   "outputs": [
    {
     "name": "stdout",
     "output_type": "stream",
     "text": [
      "{'svc__C': 2, 'svc__gamma': 0.005}\n"
     ]
    }
   ],
   "source": [
    "# import various libraries\n",
    "import numpy as np\n",
    "import csv\n",
    "import pandas as pd\n",
    "import sklearn\n",
    "from sklearn import svm\n",
    "from sklearn.datasets import make_classification\n",
    "from sklearn.linear_model import LogisticRegression\n",
    "from sklearn.model_selection import train_test_split\n",
    "from sklearn.pipeline import make_pipeline\n",
    "from sklearn.preprocessing import StandardScaler\n",
    "from sklearn.model_selection import GridSearchCV\n",
    "\n",
    "# import data\n",
    "X_train = pd.read_csv(\"~/Desktop/ml_data/data_0404/improps/train_0407.csv\", sep = ',', header = None)\n",
    "y_train = pd.read_csv(\"~/Desktop/ml_data/data_0404/improps/train_id_0407.csv\", sep = ',', header = None)\n",
    "X_test = pd.read_csv(\"~/Desktop/ml_data/data_0404/improps/test_0407.csv\", sep = ',', header = None)\n",
    "y_test = pd.read_csv(\"~/Desktop/ml_data/data_0404/improps/test_id_0407.csv\", sep = ',', header = None)\n",
    "\n",
    "y_train = np.ravel(y_train, order = \"C\") # have to do this to make data the right shape\n",
    "\n",
    "# scaling pipeline\n",
    "pipe = make_pipeline(StandardScaler(), svm.SVC(kernel='rbf'))\n",
    "pipe.fit(X_train, y_train)  # apply scaling on training data\n",
    "#pipe.score(X_test, y_test)  # apply scaling on testing data, without leaking training data.\n",
    "test_results = pipe.predict(X_test)\n",
    "# create and train SVM\n",
    "#classifier = svm.SVC()\n",
    "#classifier.fit(X_train, y_train)\n",
    "\n",
    "param_grid = {'svc__C': [1, 2, 3, 4, 5, 10, 50], 'svc__gamma': [0.0001, 0.0005, 0.001, 0.005]}\n",
    "grid = GridSearchCV(pipe, param_grid)\n",
    "grid.fit(X_train, y_train)\n",
    "print(grid.best_params_)"
   ]
  },
  {
   "cell_type": "code",
   "execution_count": 3,
   "metadata": {},
   "outputs": [
    {
     "name": "stdout",
     "output_type": "stream",
     "text": [
      "{'svc__C': 2, 'svc__coef0': 1, 'svc__degree': 2, 'svc__gamma': 0.005}\n"
     ]
    }
   ],
   "source": [
    "# polynomial kernel\n",
    "# import various libraries\n",
    "import numpy as np\n",
    "import csv\n",
    "import pandas as pd\n",
    "import sklearn\n",
    "from sklearn import svm\n",
    "from sklearn.datasets import make_classification\n",
    "from sklearn.linear_model import LogisticRegression\n",
    "from sklearn.model_selection import train_test_split\n",
    "from sklearn.pipeline import make_pipeline\n",
    "from sklearn.preprocessing import StandardScaler\n",
    "from sklearn.model_selection import GridSearchCV\n",
    "\n",
    "# import data\n",
    "X_train = pd.read_csv(\"~/Desktop/ml_data/data_0404/improps/train_0407.csv\", sep = ',', header = None)\n",
    "y_train = pd.read_csv(\"~/Desktop/ml_data/data_0404/improps/train_id_0407.csv\", sep = ',', header = None)\n",
    "X_test = pd.read_csv(\"~/Desktop/ml_data/data_0404/improps/test_0407.csv\", sep = ',', header = None)\n",
    "y_test = pd.read_csv(\"~/Desktop/ml_data/data_0404/improps/test_id_0407.csv\", sep = ',', header = None)\n",
    "\n",
    "y_train = np.ravel(y_train, order = \"C\") # have to do this to make data the right shape\n",
    "\n",
    "# scaling pipeline\n",
    "pipe = make_pipeline(StandardScaler(), svm.SVC(kernel='poly'))\n",
    "pipe.fit(X_train, y_train)  # apply scaling on training data\n",
    "#pipe.score(X_test, y_test)  # apply scaling on testing data, without leaking training data.\n",
    "test_results = pipe.predict(X_test)\n",
    "# create and train SVM\n",
    "#classifier = svm.SVC()\n",
    "#classifier.fit(X_train, y_train)\n",
    "\n",
    "param_grid = {'svc__C': [1, 2, 3, 4, 5, 10, 50], 'svc__gamma': [0.0001, 0.0005, 0.001, 0.005], 'svc__degree': [1, 2, 3, 4, 5], 'svc__coef0': [0, 1, 23, 4, 5, 10, 50]}\n",
    "grid = GridSearchCV(pipe, param_grid)\n",
    "grid.fit(X_train, y_train)\n",
    "print(grid.best_params_)"
   ]
  },
  {
   "cell_type": "code",
   "execution_count": 4,
   "metadata": {},
   "outputs": [
    {
     "name": "stdout",
     "output_type": "stream",
     "text": [
      "{'svc__C': 1, 'svc__coef0': 1, 'svc__gamma': 0.005}\n"
     ]
    }
   ],
   "source": [
    "# sigmoid kernel\n",
    "# import various libraries\n",
    "import numpy as np\n",
    "import csv\n",
    "import pandas as pd\n",
    "import sklearn\n",
    "from sklearn import svm\n",
    "from sklearn.datasets import make_classification\n",
    "from sklearn.linear_model import LogisticRegression\n",
    "from sklearn.model_selection import train_test_split\n",
    "from sklearn.pipeline import make_pipeline\n",
    "from sklearn.preprocessing import StandardScaler\n",
    "from sklearn.model_selection import GridSearchCV\n",
    "\n",
    "# import data\n",
    "X_train = pd.read_csv(\"~/Desktop/ml_data/data_0404/improps/train_0407.csv\", sep = ',', header = None)\n",
    "y_train = pd.read_csv(\"~/Desktop/ml_data/data_0404/improps/train_id_0407.csv\", sep = ',', header = None)\n",
    "X_test = pd.read_csv(\"~/Desktop/ml_data/data_0404/improps/test_0407.csv\", sep = ',', header = None)\n",
    "y_test = pd.read_csv(\"~/Desktop/ml_data/data_0404/improps/test_id_0407.csv\", sep = ',', header = None)\n",
    "\n",
    "y_train = np.ravel(y_train, order = \"C\") # have to do this to make data the right shape\n",
    "\n",
    "# scaling pipeline\n",
    "pipe = make_pipeline(StandardScaler(), svm.SVC(kernel='poly'))\n",
    "pipe.fit(X_train, y_train)  # apply scaling on training data\n",
    "#pipe.score(X_test, y_test)  # apply scaling on testing data, without leaking training data.\n",
    "test_results = pipe.predict(X_test)\n",
    "# create and train SVM\n",
    "#classifier = svm.SVC()\n",
    "#classifier.fit(X_train, y_train)\n",
    "\n",
    "param_grid = {'svc__C': [1, 2, 3, 4, 5, 10, 50], 'svc__gamma': [0.0001, 0.0005, 0.001, 0.005], 'svc__coef0': [0, 1, 23, 4, 5, 10, 50]}\n",
    "grid = GridSearchCV(pipe, param_grid)\n",
    "grid.fit(X_train, y_train)\n",
    "print(grid.best_params_)"
   ]
  },
  {
   "cell_type": "code",
   "execution_count": 6,
   "metadata": {},
   "outputs": [
    {
     "name": "stdout",
     "output_type": "stream",
     "text": [
      "{'svc__C': 1}\n"
     ]
    }
   ],
   "source": [
    "# linear kernel\n",
    "# import various libraries\n",
    "import numpy as np\n",
    "import csv\n",
    "import pandas as pd\n",
    "import sklearn\n",
    "from sklearn import svm\n",
    "from sklearn.datasets import make_classification\n",
    "from sklearn.linear_model import LogisticRegression\n",
    "from sklearn.model_selection import train_test_split\n",
    "from sklearn.pipeline import make_pipeline\n",
    "from sklearn.preprocessing import StandardScaler\n",
    "from sklearn.model_selection import GridSearchCV\n",
    "\n",
    "# import data\n",
    "X_train = pd.read_csv(\"~/Desktop/ml_data/data_0404/improps/train_0407.csv\", sep = ',', header = None)\n",
    "y_train = pd.read_csv(\"~/Desktop/ml_data/data_0404/improps/train_id_0407.csv\", sep = ',', header = None)\n",
    "X_test = pd.read_csv(\"~/Desktop/ml_data/data_0404/improps/test_0407.csv\", sep = ',', header = None)\n",
    "y_test = pd.read_csv(\"~/Desktop/ml_data/data_0404/improps/test_id_0407.csv\", sep = ',', header = None)\n",
    "\n",
    "y_train = np.ravel(y_train, order = \"C\") # have to do this to make data the right shape\n",
    "\n",
    "# scaling pipeline\n",
    "pipe = make_pipeline(StandardScaler(), svm.SVC(kernel='linear'))\n",
    "pipe.fit(X_train, y_train)  # apply scaling on training data\n",
    "#pipe.score(X_test, y_test)  # apply scaling on testing data, without leaking training data.\n",
    "test_results = pipe.predict(X_test)\n",
    "# create and train SVM\n",
    "#classifier = svm.SVC()\n",
    "#classifier.fit(X_train, y_train)\n",
    "\n",
    "param_grid = {'svc__C': [1, 2, 3, 4, 5, 10, 50]}\n",
    "grid = GridSearchCV(pipe, param_grid)\n",
    "grid.fit(X_train, y_train)\n",
    "print(grid.best_params_)"
   ]
  },
  {
   "cell_type": "code",
   "execution_count": null,
   "metadata": {},
   "outputs": [],
   "source": []
  }
 ],
 "metadata": {
  "kernelspec": {
   "display_name": "Python 3",
   "language": "python",
   "name": "python3"
  },
  "language_info": {
   "codemirror_mode": {
    "name": "ipython",
    "version": 3
   },
   "file_extension": ".py",
   "mimetype": "text/x-python",
   "name": "python",
   "nbconvert_exporter": "python",
   "pygments_lexer": "ipython3",
   "version": "3.8.3"
  }
 },
 "nbformat": 4,
 "nbformat_minor": 4
}
