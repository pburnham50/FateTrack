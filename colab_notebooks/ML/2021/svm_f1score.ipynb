{
 "cells": [
  {
   "cell_type": "code",
   "execution_count": 2,
   "metadata": {},
   "outputs": [
    {
     "name": "stdout",
     "output_type": "stream",
     "text": [
      "0.7607361963190183\n"
     ]
    }
   ],
   "source": [
    "# import various libraries\n",
    "import numpy as np\n",
    "import csv\n",
    "import pandas as pd\n",
    "import sklearn\n",
    "from sklearn import svm\n",
    "from sklearn.datasets import make_classification\n",
    "from sklearn.linear_model import LogisticRegression\n",
    "from sklearn.model_selection import train_test_split\n",
    "from sklearn.pipeline import make_pipeline\n",
    "from sklearn.preprocessing import StandardScaler\n",
    "from sklearn.model_selection import GridSearchCV\n",
    "\n",
    "# import data\n",
    "X_train = pd.read_csv(\"~/Desktop/ml_data/data_0404/improps/train_0407.csv\", sep = ',', header = None)\n",
    "y_train = pd.read_csv(\"~/Desktop/ml_data/data_0404/improps/train_id_0407.csv\", sep = ',', header = None)\n",
    "X_test = pd.read_csv(\"~/Desktop/ml_data/data_0404/improps/test_0407.csv\", sep = ',', header = None)\n",
    "y_test = pd.read_csv(\"~/Desktop/ml_data/data_0404/improps/test_id_0407.csv\", sep = ',', header = None)\n",
    "\n",
    "y_train = np.ravel(y_train, order = \"C\") # have to do this to make data the right shape\n",
    "\n",
    "# scaling pipeline, create and train SVM\n",
    "pipe = make_pipeline(StandardScaler(), svm.SVC(C = 5, kernel='rbf', gamma = 0.001))\n",
    "pipe.fit(X_train, y_train)  # apply scaling on training data\n",
    "#pipe.score(X_test, y_test)  # apply scaling on testing data, without leaking training data.\n",
    "test_results = pipe.predict(X_test)\n",
    "\n",
    "f1score = sklearn.metrics.f1_score(y_test, test_results)\n",
    "print(f1score)"
   ]
  },
  {
   "cell_type": "code",
   "execution_count": null,
   "metadata": {},
   "outputs": [],
   "source": []
  }
 ],
 "metadata": {
  "kernelspec": {
   "display_name": "Python 3",
   "language": "python",
   "name": "python3"
  },
  "language_info": {
   "codemirror_mode": {
    "name": "ipython",
    "version": 3
   },
   "file_extension": ".py",
   "mimetype": "text/x-python",
   "name": "python",
   "nbconvert_exporter": "python",
   "pygments_lexer": "ipython3",
   "version": "3.8.3"
  }
 },
 "nbformat": 4,
 "nbformat_minor": 4
}
